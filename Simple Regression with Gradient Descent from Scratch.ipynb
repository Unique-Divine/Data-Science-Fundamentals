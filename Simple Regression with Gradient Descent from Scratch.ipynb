{
 "cells": [
  {
   "cell_type": "markdown",
   "metadata": {},
   "source": [
    "# Simple Regression with Gradient Descent from Scratch\n",
    "\n",
    "### Contents: \n",
    "1. Visualizing the Dataset\n",
    "2. Defining the Hyperparameters\n",
    "3. Training the Model"
   ]
  },
  {
   "cell_type": "code",
   "execution_count": 51,
   "metadata": {},
   "outputs": [],
   "source": [
    "import numpy as np\n",
    "import pandas as pd\n",
    "import sklearn\n",
    "import seaborn as sns\n",
    "sns.set()\n",
    "from sklearn import datasets\n",
    "import matplotlib.pyplot as plt"
   ]
  },
  {
   "cell_type": "markdown",
   "metadata": {},
   "source": [
    "----\n",
    "## 1. Visualizing the Dataset\n",
    "I'll make a randomly generated set of points that trend along a line and try to fit that line with gradient descent. "
   ]
  },
  {
   "cell_type": "code",
   "execution_count": 113,
   "metadata": {},
   "outputs": [
    {
     "data": {
      "text/plain": [
       "(150, 2)"
      ]
     },
     "execution_count": 113,
     "metadata": {},
     "output_type": "execute_result"
    },
    {
     "data": {
      "image/png": "[encoded data removed]",
      "text/plain": [
       "<Figure size 432x288 with 1 Axes>"
      ]
     },
     "metadata": {},
     "output_type": "display_data"
    }
   ],
   "source": [
    "rng = np.random.RandomState(1)\n",
    "# create x random x values\n",
    "# creates an array of given shape (150) with standard uniform distribution\n",
    "x = 10 * rng.rand(150) \n",
    "y = 2 * x - 5 + rng.randn(150)\n",
    "plt.scatter(x, y)\n",
    "x = np.array(x).reshape(len(x), 1)\n",
    "y = np.array(y).reshape(len(y), 1)\n",
    "points = np.hstack([x, y])\n",
    "points.shape"
   ]
  },
  {
   "cell_type": "markdown",
   "metadata": {},
   "source": [
    "----\n",
    "## 2. Defining the Hyperparameters\n",
    "\n",
    "#### 2.1 Learning rate and Convergence\n",
    "We're going to have a bunch of hyperparameters for gradient descent. One we'll use is the **learning rate**.\n",
    "* Learning rate : describes how fast the model converges.\n",
    "* Convergence: when the model becomes optimal\n",
    "\n",
    "Convergence, in this case, refers to reaching the line of best fit. You might be wondering, \"Shouldn't the learning rate just be super high so that the model can converge faster?\" No, there's a tradeoff faced for almost all hyper-parameters. If the learning rate is too small, we'll get slow convergence, but if the learning rate is too high, then the error function might not decrease and  we won't see convergence at all.\n",
    "\n",
    "#### 2.2 Initial values\n",
    "The next two hyperparameters we'll use are the initial b, `b_init`, and initial m, `m_init`. These refer to initial values for the parameters in $y=mx+b$. We'll also need to specify the number of iterations, `n_iters`.\n",
    "\n"
   ]
  },
  {
   "cell_type": "markdown",
   "metadata": {},
   "source": [
    "## 3. Training the Model\n",
    "Training the model involves finding the line that minimizes error. \n",
    "$$\\text{Total Error}  = \\frac{1}{N}\\sum\\limits_{i=1}^{N}((y_i - \\hat{y}_i))^2$$"
   ]
  },
  {
   "cell_type": "code",
   "execution_count": 70,
   "metadata": {},
   "outputs": [],
   "source": [
    "def compute_error(b, m, points):\n",
    "    # initialize error\n",
    "    E_tot = 0\n",
    "    N = len(points)\n",
    "    # for every point\n",
    "    for i in range(0, N):\n",
    "        # get the x value\n",
    "        x = points[i, 0]\n",
    "        # get the y value\n",
    "        y = points[i, 1]\n",
    "        # calculate square difference for the error and add it to E_tot\n",
    "        y_hat = m * x + b\n",
    "        E_tot += (y - yhat) ** 2\n",
    "    # return it normalized\n",
    "    return E_tot / float(N)"
   ]
  },
  {
   "cell_type": "markdown",
   "metadata": {},
   "source": [
    "What is gradient descent?"
   ]
  },
  {
   "cell_type": "code",
   "execution_count": 76,
   "metadata": {},
   "outputs": [],
   "source": [
    "def gradient_descent(points, b_in, m_in, lrate, n_iters):\n",
    "    # input b and m into the function\n",
    "    b = b_in\n",
    "    m = m_in\n",
    "    \n",
    "    # gradient descent\n",
    "    for i in range(n_iters):\n",
    "        # update b and m with a more accurate b and m\n",
    "        # this is a gradient step\n",
    "        b, m = gradient_step(b, m, points, lrate)\n",
    "    return b, m"
   ]
  },
  {
   "cell_type": "markdown",
   "metadata": {},
   "source": [
    "$$ \\frac{\\partial }{\\partial m} E_{tot} = \\frac{2}{N} \\sum\\limits_{i=1}^N -x_i (y_i-\\hat{y}_i)$$\n",
    "\n",
    "$$ \\frac{\\partial}{\\partial b} E_{tot} = \\frac{2}{N} \\sum\\limits_{i=1}^N - (y_i-\\hat{y}_i)$$"
   ]
  },
  {
   "cell_type": "code",
   "execution_count": 84,
   "metadata": {},
   "outputs": [],
   "source": [
    "def gradient_step(b_current, m_current, points, lrate):\n",
    "    # initalize gradients\n",
    "    b_gradient = 0\n",
    "    m_gradient = 0\n",
    "    \n",
    "    # When the error is the smallest, that gives us convergence\n",
    "    N = float(len(points))\n",
    "    for i in range(0, len(points)):\n",
    "        x = points[i, 0]\n",
    "        y = points[i, 1]\n",
    "        # compute partial derivatives for error function\n",
    "        y_hat = m_current * x + b_current\n",
    "        m_gradient += -(2/N) * x *(y - y_hat)\n",
    "        b_gradient += -(2/N) * (y - y_hat)\n",
    "    \n",
    "    # update b and m values using the partial derivatives\n",
    "    m_new = m_current - (lrate * m_gradient)\n",
    "    b_new = b_current - (lrate * b_gradient)\n",
    "    return b_new, m_new"
   ]
  },
  {
   "cell_type": "code",
   "execution_count": 110,
   "metadata": {},
   "outputs": [
    {
     "name": "stdout",
     "output_type": "stream",
     "text": [
      "default settings: \n"
     ]
    },
    {
     "data": {
      "image/png": "[encoded data removed]",
      "text/plain": [
       "<Figure size 432x288 with 1 Axes>"
      ]
     },
     "metadata": {},
     "output_type": "display_data"
    }
   ],
   "source": [
    "def run(lrate=0.001, n_iters=1000, b_init=0, m_init=0):\n",
    "    b, m = gradient_descent(points, b_init, m_init, lrate, n_iters)\n",
    "    y_hat = m * x + b\n",
    "    plt.scatter(x, y)\n",
    "    plt.plot(x, y_hat, color='r')\n",
    "\n",
    "print('default settings: ')\n",
    "run()"
   ]
  },
  {
   "cell_type": "code",
   "execution_count": 112,
   "metadata": {},
   "outputs": [
    {
     "name": "stdout",
     "output_type": "stream",
     "text": [
      "higher lrate:\n"
     ]
    },
    {
     "data": {
      "image/png": "[encoded data removed]",
      "text/plain": [
       "<Figure size 432x288 with 1 Axes>"
      ]
     },
     "metadata": {},
     "output_type": "display_data"
    }
   ],
   "source": [
    "print('higher lrate:')\n",
    "run(0.01)"
   ]
  },
  {
   "cell_type": "markdown",
   "metadata": {},
   "source": [
    "Is there a way to figure out an optimal learning rate for this model?"
   ]
  },
  {
   "cell_type": "code",
   "execution_count": null,
   "metadata": {},
   "outputs": [],
   "source": []
  },
  {
   "cell_type": "markdown",
   "metadata": {},
   "source": [
    "----- Boston \n"
   ]
  },
  {
   "cell_type": "markdown",
   "metadata": {},
   "source": [
    "Model/Approximation:\n",
    "$$y = X\\beta+ \\epsilon,$$\n",
    "where $y$ is the predicted value, <br>\n",
    "$X$ is the design matrix, <br>\n",
    "$\\beta$ is the coefficient matrix, <br>\n",
    "and $\\epsilon$ is the residual (or error)."
   ]
  },
  {
   "cell_type": "code",
   "execution_count": 40,
   "metadata": {},
   "outputs": [
    {
     "name": "stdout",
     "output_type": "stream",
     "text": [
      "<class 'sklearn.utils.Bunch'> \n",
      "\n"
     ]
    }
   ],
   "source": [
    "boston = datasets.load_boston()\n",
    "print(type(boston), '\\n')"
   ]
  },
  {
   "cell_type": "code",
   "execution_count": 41,
   "metadata": {},
   "outputs": [
    {
     "name": "stdout",
     "output_type": "stream",
     "text": [
      ".. _boston_dataset:\n",
      "\n",
      "Boston house prices dataset\n",
      "---------------------------\n",
      "\n",
      "**Data Set Characteristics:**  \n",
      "\n",
      "    :Number of Instances: 506 \n",
      "\n",
      "    :Number of Attributes: 13 numeric/categorical predictive. Median Value (attribute 14) is usually the target.\n",
      "\n",
      "    :Attribute Information (in order):\n",
      "        - CRIM     per capita crime rate by town\n",
      "        - ZN       proportion of residential land zoned for lots over 25,000 sq.ft.\n",
      "        - INDUS    proportion of non-retail business acres per town\n",
      "        - CHAS     Charles River dummy variable (= 1 if tract bounds river; 0 otherwise)\n",
      "        - NOX      nitric oxides concentration (parts per 10 million)\n",
      "        - RM       average number of rooms per dwelling\n",
      "        - AGE      proportion of owner-occupied units built prior to 1940\n",
      "        - DIS      weighted distances to five Boston employment centres\n",
      "        - RAD      index of accessibility to radial highways\n",
      "        - TAX      full-value property-tax rate per $10,000\n",
      "        - PTRATIO  pupil-teacher ratio by town\n",
      "        - B        1000(Bk - 0.63)^2 where Bk is the proportion of blacks by town\n",
      "        - LSTAT    % lower status of the population\n",
      "        - MEDV     Median value of owner-occupied homes in $1000's\n",
      "\n",
      "    :Missing Attribute Values: None\n",
      "\n",
      "    :Creator: Harrison, D. and Rubinfeld, D.L.\n",
      "\n",
      "This is a copy of UCI ML housing dataset.\n",
      "https://archive.ics.uci.edu/ml/machine-learning-databases/housing/\n",
      "\n",
      "\n",
      "This dataset was taken from the StatLib library which is maintained at Carnegie Mellon University.\n",
      "\n",
      "The Boston house-price data of Harrison, D. and Rubinfeld, D.L. 'Hedonic\n",
      "prices and the demand for clean air', J. Environ. Economics & Management,\n",
      "vol.5, 81-102, 1978.   Used in Belsley, Kuh & Welsch, 'Regression diagnostics\n",
      "...', Wiley, 1980.   N.B. Various transformations are used in the table on\n",
      "pages 244-261 of the latter.\n",
      "\n",
      "The Boston house-price data has been used in many machine learning papers that address regression\n",
      "problems.   \n",
      "     \n",
      ".. topic:: References\n",
      "\n",
      "   - Belsley, Kuh & Welsch, 'Regression diagnostics: Identifying Influential Data and Sources of Collinearity', Wiley, 1980. 244-261.\n",
      "   - Quinlan,R. (1993). Combining Instance-Based and Model-Based Learning. In Proceedings on the Tenth International Conference of Machine Learning, 236-243, University of Massachusetts, Amherst. Morgan Kaufmann.\n",
      "\n"
     ]
    }
   ],
   "source": [
    "boston = datasets.load_boston()\n",
    "print(boston.DESCR)"
   ]
  },
  {
   "cell_type": "code",
   "execution_count": 42,
   "metadata": {},
   "outputs": [
    {
     "data": {
      "text/plain": [
       "array(['CRIM', 'ZN', 'INDUS', 'CHAS', 'NOX', 'RM', 'AGE', 'DIS', 'RAD',\n",
       "       'TAX', 'PTRATIO', 'B', 'LSTAT'], dtype='<U7')"
      ]
     },
     "execution_count": 42,
     "metadata": {},
     "output_type": "execute_result"
    }
   ],
   "source": [
    "boston.feature_names "
   ]
  },
  {
   "cell_type": "code",
   "execution_count": 43,
   "metadata": {},
   "outputs": [
    {
     "data": {
      "text/plain": [
       "(506, 13)"
      ]
     },
     "execution_count": 43,
     "metadata": {},
     "output_type": "execute_result"
    }
   ],
   "source": [
    "boston.data.shape"
   ]
  },
  {
   "cell_type": "code",
   "execution_count": 44,
   "metadata": {},
   "outputs": [
    {
     "data": {
      "text/plain": [
       "(506, 1)"
      ]
     },
     "execution_count": 44,
     "metadata": {},
     "output_type": "execute_result"
    }
   ],
   "source": [
    "y = boston.target.reshape(len(boston.target),1)\n",
    "y.shape"
   ]
  },
  {
   "cell_type": "code",
   "execution_count": 45,
   "metadata": {},
   "outputs": [
    {
     "data": {
      "text/html": [
       "<div>\n",
       "<style scoped>\n",
       "    .dataframe tbody tr th:only-of-type {\n",
       "        vertical-align: middle;\n",
       "    }\n",
       "\n",
       "    .dataframe tbody tr th {\n",
       "        vertical-align: top;\n",
       "    }\n",
       "\n",
       "    .dataframe thead th {\n",
       "        text-align: right;\n",
       "    }\n",
       "</style>\n",
       "<table border=\"1\" class=\"dataframe\">\n",
       "  <thead>\n",
       "    <tr style=\"text-align: right;\">\n",
       "      <th></th>\n",
       "      <th>CRIM</th>\n",
       "      <th>ZN</th>\n",
       "      <th>INDUS</th>\n",
       "      <th>CHAS</th>\n",
       "      <th>NOX</th>\n",
       "      <th>RM</th>\n",
       "      <th>AGE</th>\n",
       "      <th>DIS</th>\n",
       "      <th>RAD</th>\n",
       "      <th>TAX</th>\n",
       "      <th>PTRATIO</th>\n",
       "      <th>B</th>\n",
       "      <th>LSTAT</th>\n",
       "    </tr>\n",
       "  </thead>\n",
       "  <tbody>\n",
       "    <tr>\n",
       "      <th>0</th>\n",
       "      <td>0.00632</td>\n",
       "      <td>18.0</td>\n",
       "      <td>2.31</td>\n",
       "      <td>0.0</td>\n",
       "      <td>0.538</td>\n",
       "      <td>6.575</td>\n",
       "      <td>65.2</td>\n",
       "      <td>4.0900</td>\n",
       "      <td>1.0</td>\n",
       "      <td>296.0</td>\n",
       "      <td>15.3</td>\n",
       "      <td>396.90</td>\n",
       "      <td>4.98</td>\n",
       "    </tr>\n",
       "    <tr>\n",
       "      <th>1</th>\n",
       "      <td>0.02731</td>\n",
       "      <td>0.0</td>\n",
       "      <td>7.07</td>\n",
       "      <td>0.0</td>\n",
       "      <td>0.469</td>\n",
       "      <td>6.421</td>\n",
       "      <td>78.9</td>\n",
       "      <td>4.9671</td>\n",
       "      <td>2.0</td>\n",
       "      <td>242.0</td>\n",
       "      <td>17.8</td>\n",
       "      <td>396.90</td>\n",
       "      <td>9.14</td>\n",
       "    </tr>\n",
       "    <tr>\n",
       "      <th>2</th>\n",
       "      <td>0.02729</td>\n",
       "      <td>0.0</td>\n",
       "      <td>7.07</td>\n",
       "      <td>0.0</td>\n",
       "      <td>0.469</td>\n",
       "      <td>7.185</td>\n",
       "      <td>61.1</td>\n",
       "      <td>4.9671</td>\n",
       "      <td>2.0</td>\n",
       "      <td>242.0</td>\n",
       "      <td>17.8</td>\n",
       "      <td>392.83</td>\n",
       "      <td>4.03</td>\n",
       "    </tr>\n",
       "    <tr>\n",
       "      <th>3</th>\n",
       "      <td>0.03237</td>\n",
       "      <td>0.0</td>\n",
       "      <td>2.18</td>\n",
       "      <td>0.0</td>\n",
       "      <td>0.458</td>\n",
       "      <td>6.998</td>\n",
       "      <td>45.8</td>\n",
       "      <td>6.0622</td>\n",
       "      <td>3.0</td>\n",
       "      <td>222.0</td>\n",
       "      <td>18.7</td>\n",
       "      <td>394.63</td>\n",
       "      <td>2.94</td>\n",
       "    </tr>\n",
       "    <tr>\n",
       "      <th>4</th>\n",
       "      <td>0.06905</td>\n",
       "      <td>0.0</td>\n",
       "      <td>2.18</td>\n",
       "      <td>0.0</td>\n",
       "      <td>0.458</td>\n",
       "      <td>7.147</td>\n",
       "      <td>54.2</td>\n",
       "      <td>6.0622</td>\n",
       "      <td>3.0</td>\n",
       "      <td>222.0</td>\n",
       "      <td>18.7</td>\n",
       "      <td>396.90</td>\n",
       "      <td>5.33</td>\n",
       "    </tr>\n",
       "  </tbody>\n",
       "</table>\n",
       "</div>"
      ],
      "text/plain": [
       "      CRIM    ZN  INDUS  CHAS    NOX     RM   AGE     DIS  RAD    TAX  \\\n",
       "0  0.00632  18.0   2.31   0.0  0.538  6.575  65.2  4.0900  1.0  296.0   \n",
       "1  0.02731   0.0   7.07   0.0  0.469  6.421  78.9  4.9671  2.0  242.0   \n",
       "2  0.02729   0.0   7.07   0.0  0.469  7.185  61.1  4.9671  2.0  242.0   \n",
       "3  0.03237   0.0   2.18   0.0  0.458  6.998  45.8  6.0622  3.0  222.0   \n",
       "4  0.06905   0.0   2.18   0.0  0.458  7.147  54.2  6.0622  3.0  222.0   \n",
       "\n",
       "   PTRATIO       B  LSTAT  \n",
       "0     15.3  396.90   4.98  \n",
       "1     17.8  396.90   9.14  \n",
       "2     17.8  392.83   4.03  \n",
       "3     18.7  394.63   2.94  \n",
       "4     18.7  396.90   5.33  "
      ]
     },
     "execution_count": 45,
     "metadata": {},
     "output_type": "execute_result"
    }
   ],
   "source": [
    "df  = pd.DataFrame(boston['data'])\n",
    "df.columns = boston['feature_names']\n",
    "df.head()"
   ]
  },
  {
   "cell_type": "code",
   "execution_count": 15,
   "metadata": {},
   "outputs": [
    {
     "data": {
      "text/html": [
       "<div>\n",
       "<style scoped>\n",
       "    .dataframe tbody tr th:only-of-type {\n",
       "        vertical-align: middle;\n",
       "    }\n",
       "\n",
       "    .dataframe tbody tr th {\n",
       "        vertical-align: top;\n",
       "    }\n",
       "\n",
       "    .dataframe thead th {\n",
       "        text-align: right;\n",
       "    }\n",
       "</style>\n",
       "<table border=\"1\" class=\"dataframe\">\n",
       "  <thead>\n",
       "    <tr style=\"text-align: right;\">\n",
       "      <th></th>\n",
       "      <th>CRIM</th>\n",
       "      <th>ZN</th>\n",
       "      <th>INDUS</th>\n",
       "      <th>CHAS</th>\n",
       "      <th>NOX</th>\n",
       "      <th>RM</th>\n",
       "      <th>AGE</th>\n",
       "      <th>DIS</th>\n",
       "      <th>RAD</th>\n",
       "      <th>TAX</th>\n",
       "      <th>PTRATIO</th>\n",
       "      <th>B</th>\n",
       "      <th>LSTAT</th>\n",
       "    </tr>\n",
       "  </thead>\n",
       "  <tbody>\n",
       "    <tr>\n",
       "      <th>count</th>\n",
       "      <td>5.060000e+02</td>\n",
       "      <td>5.060000e+02</td>\n",
       "      <td>5.060000e+02</td>\n",
       "      <td>5.060000e+02</td>\n",
       "      <td>5.060000e+02</td>\n",
       "      <td>5.060000e+02</td>\n",
       "      <td>5.060000e+02</td>\n",
       "      <td>5.060000e+02</td>\n",
       "      <td>5.060000e+02</td>\n",
       "      <td>5.060000e+02</td>\n",
       "      <td>5.060000e+02</td>\n",
       "      <td>5.060000e+02</td>\n",
       "      <td>5.060000e+02</td>\n",
       "    </tr>\n",
       "    <tr>\n",
       "      <th>mean</th>\n",
       "      <td>-3.208896e-18</td>\n",
       "      <td>1.148072e-16</td>\n",
       "      <td>-6.812595e-16</td>\n",
       "      <td>-1.189760e-16</td>\n",
       "      <td>6.223338e-16</td>\n",
       "      <td>-1.521044e-15</td>\n",
       "      <td>-3.491388e-16</td>\n",
       "      <td>1.206490e-16</td>\n",
       "      <td>6.406821e-17</td>\n",
       "      <td>1.933017e-16</td>\n",
       "      <td>-2.300312e-15</td>\n",
       "      <td>1.881620e-15</td>\n",
       "      <td>-1.082797e-16</td>\n",
       "    </tr>\n",
       "    <tr>\n",
       "      <th>std</th>\n",
       "      <td>9.667929e-02</td>\n",
       "      <td>2.332245e-01</td>\n",
       "      <td>2.514792e-01</td>\n",
       "      <td>2.539940e-01</td>\n",
       "      <td>2.384314e-01</td>\n",
       "      <td>1.346268e-01</td>\n",
       "      <td>2.898956e-01</td>\n",
       "      <td>1.914822e-01</td>\n",
       "      <td>3.785765e-01</td>\n",
       "      <td>3.216357e-01</td>\n",
       "      <td>2.303134e-01</td>\n",
       "      <td>2.302054e-01</td>\n",
       "      <td>1.970492e-01</td>\n",
       "    </tr>\n",
       "    <tr>\n",
       "      <th>min</th>\n",
       "      <td>-4.054410e-02</td>\n",
       "      <td>-1.136364e-01</td>\n",
       "      <td>-3.913775e-01</td>\n",
       "      <td>-6.916996e-02</td>\n",
       "      <td>-3.491668e-01</td>\n",
       "      <td>-5.218690e-01</td>\n",
       "      <td>-6.763636e-01</td>\n",
       "      <td>-2.423813e-01</td>\n",
       "      <td>-3.717134e-01</td>\n",
       "      <td>-4.222083e-01</td>\n",
       "      <td>-6.229291e-01</td>\n",
       "      <td>-8.985678e-01</td>\n",
       "      <td>-3.014090e-01</td>\n",
       "    </tr>\n",
       "    <tr>\n",
       "      <th>25%</th>\n",
       "      <td>-3.969297e-02</td>\n",
       "      <td>-1.136364e-01</td>\n",
       "      <td>-2.179904e-01</td>\n",
       "      <td>-6.916996e-02</td>\n",
       "      <td>-2.174795e-01</td>\n",
       "      <td>-7.647718e-02</td>\n",
       "      <td>-2.425325e-01</td>\n",
       "      <td>-1.541223e-01</td>\n",
       "      <td>-2.412786e-01</td>\n",
       "      <td>-2.466358e-01</td>\n",
       "      <td>-1.122908e-01</td>\n",
       "      <td>4.716191e-02</td>\n",
       "      <td>-1.573693e-01</td>\n",
       "    </tr>\n",
       "    <tr>\n",
       "      <th>50%</th>\n",
       "      <td>-3.773202e-02</td>\n",
       "      <td>-1.136364e-01</td>\n",
       "      <td>-5.303441e-02</td>\n",
       "      <td>-6.916996e-02</td>\n",
       "      <td>-3.435197e-02</td>\n",
       "      <td>-1.458793e-02</td>\n",
       "      <td>9.191657e-02</td>\n",
       "      <td>-5.343258e-02</td>\n",
       "      <td>-1.978003e-01</td>\n",
       "      <td>-1.493075e-01</td>\n",
       "      <td>6.324111e-02</td>\n",
       "      <td>8.766445e-02</td>\n",
       "      <td>-3.568055e-02</td>\n",
       "    </tr>\n",
       "    <tr>\n",
       "      <th>75%</th>\n",
       "      <td>7.143872e-04</td>\n",
       "      <td>1.136364e-02</td>\n",
       "      <td>2.552500e-01</td>\n",
       "      <td>-6.916996e-02</td>\n",
       "      <td>1.426028e-01</td>\n",
       "      <td>6.492922e-02</td>\n",
       "      <td>2.626169e-01</td>\n",
       "      <td>1.267068e-01</td>\n",
       "      <td>6.282866e-01</td>\n",
       "      <td>4.919138e-01</td>\n",
       "      <td>1.855815e-01</td>\n",
       "      <td>9.973011e-02</td>\n",
       "      <td>1.187069e-01</td>\n",
       "    </tr>\n",
       "    <tr>\n",
       "      <th>max</th>\n",
       "      <td>9.594559e-01</td>\n",
       "      <td>8.863636e-01</td>\n",
       "      <td>6.086225e-01</td>\n",
       "      <td>9.308300e-01</td>\n",
       "      <td>6.508332e-01</td>\n",
       "      <td>4.781310e-01</td>\n",
       "      <td>3.236364e-01</td>\n",
       "      <td>7.576187e-01</td>\n",
       "      <td>6.282866e-01</td>\n",
       "      <td>5.777917e-01</td>\n",
       "      <td>3.770709e-01</td>\n",
       "      <td>1.014322e-01</td>\n",
       "      <td>6.985910e-01</td>\n",
       "    </tr>\n",
       "  </tbody>\n",
       "</table>\n",
       "</div>"
      ],
      "text/plain": [
       "               CRIM            ZN         INDUS          CHAS           NOX  \\\n",
       "count  5.060000e+02  5.060000e+02  5.060000e+02  5.060000e+02  5.060000e+02   \n",
       "mean  -3.208896e-18  1.148072e-16 -6.812595e-16 -1.189760e-16  6.223338e-16   \n",
       "std    9.667929e-02  2.332245e-01  2.514792e-01  2.539940e-01  2.384314e-01   \n",
       "min   -4.054410e-02 -1.136364e-01 -3.913775e-01 -6.916996e-02 -3.491668e-01   \n",
       "25%   -3.969297e-02 -1.136364e-01 -2.179904e-01 -6.916996e-02 -2.174795e-01   \n",
       "50%   -3.773202e-02 -1.136364e-01 -5.303441e-02 -6.916996e-02 -3.435197e-02   \n",
       "75%    7.143872e-04  1.136364e-02  2.552500e-01 -6.916996e-02  1.426028e-01   \n",
       "max    9.594559e-01  8.863636e-01  6.086225e-01  9.308300e-01  6.508332e-01   \n",
       "\n",
       "                 RM           AGE           DIS           RAD           TAX  \\\n",
       "count  5.060000e+02  5.060000e+02  5.060000e+02  5.060000e+02  5.060000e+02   \n",
       "mean  -1.521044e-15 -3.491388e-16  1.206490e-16  6.406821e-17  1.933017e-16   \n",
       "std    1.346268e-01  2.898956e-01  1.914822e-01  3.785765e-01  3.216357e-01   \n",
       "min   -5.218690e-01 -6.763636e-01 -2.423813e-01 -3.717134e-01 -4.222083e-01   \n",
       "25%   -7.647718e-02 -2.425325e-01 -1.541223e-01 -2.412786e-01 -2.466358e-01   \n",
       "50%   -1.458793e-02  9.191657e-02 -5.343258e-02 -1.978003e-01 -1.493075e-01   \n",
       "75%    6.492922e-02  2.626169e-01  1.267068e-01  6.282866e-01  4.919138e-01   \n",
       "max    4.781310e-01  3.236364e-01  7.576187e-01  6.282866e-01  5.777917e-01   \n",
       "\n",
       "            PTRATIO             B         LSTAT  \n",
       "count  5.060000e+02  5.060000e+02  5.060000e+02  \n",
       "mean  -2.300312e-15  1.881620e-15 -1.082797e-16  \n",
       "std    2.303134e-01  2.302054e-01  1.970492e-01  \n",
       "min   -6.229291e-01 -8.985678e-01 -3.014090e-01  \n",
       "25%   -1.122908e-01  4.716191e-02 -1.573693e-01  \n",
       "50%    6.324111e-02  8.766445e-02 -3.568055e-02  \n",
       "75%    1.855815e-01  9.973011e-02  1.187069e-01  \n",
       "max    3.770709e-01  1.014322e-01  6.985910e-01  "
      ]
     },
     "execution_count": 15,
     "metadata": {},
     "output_type": "execute_result"
    }
   ],
   "source": [
    "# Normalize input matrix b/w -1 and 1 for gradient descent\n",
    "X = (df - df.mean()) / (df.max() - df.min())\n",
    "X.describe()"
   ]
  },
  {
   "cell_type": "code",
   "execution_count": 16,
   "metadata": {},
   "outputs": [],
   "source": [
    "from sklearn.model_selection import train_test_split\n",
    "X_train, X_val, y_train, y_val = train_test_split(X, y, test_size=0.3, random_state=7)"
   ]
  },
  {
   "cell_type": "code",
   "execution_count": 17,
   "metadata": {},
   "outputs": [],
   "source": [
    "# The model wer'e using need X_train to have dimension (n_features x n_training_samples)\n",
    "X_train = X_train.T\n",
    "# Similarly, y_train should be 1xm, where m_train == number of training samples\n",
    "y_train = y_train.T\n",
    "# X_val needs dimension (n_features x n_val)\n",
    "X_val = X_val.T\n",
    "# y_val needs dimension (1xm), where m == m_val\n",
    "y_val = y_val.T"
   ]
  },
  {
   "cell_type": "code",
   "execution_count": 18,
   "metadata": {},
   "outputs": [
    {
     "name": "stdout",
     "output_type": "stream",
     "text": [
      "shape of X_train:  (13, 354) \t shape of y_train:  (1, 354)\n",
      "shape of X_val:  (13, 152) \t shape of y_val:  (1, 152)\n"
     ]
    }
   ],
   "source": [
    "print('shape of X_train: ',X_train.shape,'\\t shape of y_train: ', y_train.shape)\n",
    "print('shape of X_val: ',X_val.shape,'\\t shape of y_val: ', y_val.shape)"
   ]
  }
 ],
 "metadata": {
  "kernelspec": {
   "display_name": "Python 3",
   "language": "python",
   "name": "python3"
  },
  "language_info": {
   "codemirror_mode": {
    "name": "ipython",
    "version": 3
   },
   "file_extension": ".py",
   "mimetype": "text/x-python",
   "name": "python",
   "nbconvert_exporter": "python",
   "pygments_lexer": "ipython3",
   "version": "3.7.6"
  }
 },
 "nbformat": 4,
 "nbformat_minor": 4
}
