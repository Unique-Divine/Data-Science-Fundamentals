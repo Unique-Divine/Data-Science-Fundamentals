{
 "cells": [
  {
   "cell_type": "markdown",
   "metadata": {},
   "source": [
    "# Multiple Linear Regression from Scratch"
   ]
  },
  {
   "cell_type": "markdown",
   "metadata": {},
   "source": [
    "Model/Approximation:\n",
    "$$y = X\\beta+ \\epsilon,$$\n",
    "where $y$ is the predicted value, <br>\n",
    "$X$ is the design matrix, <br>\n",
    "$\\beta$ is the coefficient matrix, <br>\n",
    "and $\\epsilon$ is the residual (or error)."
   ]
  },
  {
   "cell_type": "code",
   "execution_count": 23,
   "metadata": {},
   "outputs": [],
   "source": [
    "# class LinearRegression:\n",
    "#     # a class must have an init method\n",
    "#     def __init__(self, l_rate=0.001, n_iters=1000):\n",
    "#         self.l_rate = l_rate\n",
    "#         self.n_iters = n_iters\n",
    "#         self.weights = None\n",
    "#         self.bias = None\n",
    "    \n",
    "#     def fit(self, X, y):\n",
    "#         n_samples, n_features = X.shape \n",
    "#         self.weights = np.zeros(n_features)\n",
    "#         self.bias = 0\n",
    "#         pass\n",
    "    \n",
    "#     def predict(self, X):\n",
    "#         pass"
   ]
  },
  {
   "cell_type": "code",
   "execution_count": 35,
   "metadata": {},
   "outputs": [],
   "source": [
    "import numpy as np\n",
    "import pandas as pd\n",
    "import sklearn\n",
    "from sklearn import datasets\n",
    "import matplotlib.pyplot as plt"
   ]
  },
  {
   "cell_type": "code",
   "execution_count": 14,
   "metadata": {},
   "outputs": [],
   "source": [
    "def init_parameters(len_w):\n",
    "    # weights - for a standard normal distribution with variance=1\n",
    "    w = np.random.randn(1, len_w)  \n",
    "    # w: a row vector of shape (1,len_w)\n",
    "    b = 0 # initial bias == 0"
   ]
  },
  {
   "cell_type": "code",
   "execution_count": 15,
   "metadata": {},
   "outputs": [],
   "source": [
    "def f_prop(X, w, b):\n",
    "    \"\"\"\n",
    "    w: weights, 1 by n \n",
    "    X: design matrix, n by m \n",
    "    \"\"\"\n",
    "    y_hat = np.dot(w, X) + b\n",
    "    return y_hat"
   ]
  },
  {
   "cell_type": "code",
   "execution_count": 16,
   "metadata": {},
   "outputs": [],
   "source": [
    "def cost_function(y_hat, y):\n",
    "    m = y.shape[1]\n",
    "    J = (1/(2*m)) * np.sum(np.square(y_hat-h))\n",
    "    return J"
   ]
  },
  {
   "cell_type": "code",
   "execution_count": 17,
   "metadata": {},
   "outputs": [],
   "source": [
    "def b_prop(X, y, y_hat):\n",
    "    dy_hat = (1/m) * (y_hat - y)\n",
    "    dw = np.dot(dy_hat, X.T)\n",
    "    db = np.sum(dy_hat)\n",
    "    return dy_hat, db"
   ]
  },
  {
   "cell_type": "code",
   "execution_count": 18,
   "metadata": {},
   "outputs": [],
   "source": [
    "def gradient_descent_update(w, b, dw, db, lrate):\n",
    "    w = w - lrate * dw\n",
    "    b = b - lrate * db\n",
    "    return w, b"
   ]
  },
  {
   "cell_type": "code",
   "execution_count": 19,
   "metadata": {},
   "outputs": [],
   "source": [
    "def LR_model(X_train, y_train, X_val, y_val, lrate, epochs):\n",
    "    \"\"\"\n",
    "    X_train:\n",
    "    y_train: \n",
    "    X_val:\n",
    "    y_val:\n",
    "    lrate: \n",
    "    epochs: \n",
    "    \"\"\"\n",
    "    len_w = X_train.shape[0]\n",
    "    w, b = init_parameters(len_w)\n",
    "    \n",
    "    costs_train = []\n",
    "    m_train = y_train.shape[1]\n",
    "    m_val = y_val.shape[1] # number of validation examples\n",
    "    for i in range(1, epochs+1): # Why use epochs+1? We are starting from 1, not 0.\n",
    "        y_hat_train = f_prop(X_train, w, b)\n",
    "        cost_train = cost_function(y_hat_train, y_train)\n",
    "        dw, db = b_prop(X_train, y_train, y_hat_train)\n",
    "        w, b = gradient_descent_update(w, b, dw, db, lrate)\n",
    "        \n",
    "        # store training costs in a list to plot them.\n",
    "        if i%10==0:\n",
    "            costs_train.append(cost_train)\n",
    "        \n",
    "        # MAE_train\n",
    "        MAE_train  = (1/m_train) * np.sum(np.abs(y_hat_train - y_train))\n",
    "        \n",
    "        # cost_val, MAE_val : cost and MAE for the validation set\n",
    "        y_hat_val = f_prop(X_val, w, b)\n",
    "        cost_val = cost_function(y_hat_val, y_val)\n",
    "        MAE_val = (1/m_val) * np.sum(np.abs(y_hat_train - y_train))\n",
    "        \n",
    "        print('Epochs ' + str(i) + '/' + str(epochs) + ': ')\n",
    "        print('Training cost ' + str(cost_train) + '| '+'Validation cost '+ str(cost_val))\n",
    "        print('MAE cost ' + str(MAE_train) + '| '+'Validation cost '+ str(MAE_val))\n",
    "    \n",
    "    plt.plot(costs_train)\n",
    "    plt.xlabel('Iterations (every tenth one)')\n",
    "    plt.ylabel('Training cost')\n",
    "    plt.title('Learning rate ' + str(lrate))\n",
    "    plt.show()"
   ]
  },
  {
   "cell_type": "code",
   "execution_count": 33,
   "metadata": {},
   "outputs": [
    {
     "name": "stdout",
     "output_type": "stream",
     "text": [
      "<class 'sklearn.utils.Bunch'> \n",
      "\n"
     ]
    }
   ],
   "source": [
    "diabetes = datasets.load_diabetes()\n",
    "print(type(diabetes), '\\n')"
   ]
  },
  {
   "cell_type": "code",
   "execution_count": 8,
   "metadata": {},
   "outputs": [
    {
     "name": "stdout",
     "output_type": "stream",
     "text": [
      ".. _diabetes_dataset:\n",
      "\n",
      "Diabetes dataset\n",
      "----------------\n",
      "\n",
      "Ten baseline variables, age, sex, body mass index, average blood\n",
      "pressure, and six blood serum measurements were obtained for each of n =\n",
      "442 diabetes patients, as well as the response of interest, a\n",
      "quantitative measure of disease progression one year after baseline.\n",
      "\n",
      "**Data Set Characteristics:**\n",
      "\n",
      "  :Number of Instances: 442\n",
      "\n",
      "  :Number of Attributes: First 10 columns are numeric predictive values\n",
      "\n",
      "  :Target: Column 11 is a quantitative measure of disease progression one year after baseline\n",
      "\n",
      "  :Attribute Information:\n",
      "      - Age\n",
      "      - Sex\n",
      "      - Body mass index\n",
      "      - Average blood pressure\n",
      "      - S1\n",
      "      - S2\n",
      "      - S3\n",
      "      - S4\n",
      "      - S5\n",
      "      - S6\n",
      "\n",
      "Note: Each of these 10 feature variables have been mean centered and scaled by the standard deviation times `n_samples` (i.e. the sum of squares of each column totals 1).\n",
      "\n",
      "Source URL:\n",
      "https://www4.stat.ncsu.edu/~boos/var.select/diabetes.html\n",
      "\n",
      "For more information see:\n",
      "Bradley Efron, Trevor Hastie, Iain Johnstone and Robert Tibshirani (2004) \"Least Angle Regression,\" Annals of Statistics (with discussion), 407-499.\n",
      "(https://web.stanford.edu/~hastie/Papers/LARS/LeastAngle_2002.pdf)\n"
     ]
    }
   ],
   "source": [
    "diabetes = datasets.load_diabetes()\n",
    "print(diabetes.DESCR)"
   ]
  },
  {
   "cell_type": "code",
   "execution_count": 9,
   "metadata": {},
   "outputs": [
    {
     "data": {
      "text/plain": [
       "['age', 'sex', 'bmi', 'bp', 's1', 's2', 's3', 's4', 's5', 's6']"
      ]
     },
     "execution_count": 9,
     "metadata": {},
     "output_type": "execute_result"
    }
   ],
   "source": [
    "diabetes.feature_names "
   ]
  },
  {
   "cell_type": "code",
   "execution_count": 21,
   "metadata": {},
   "outputs": [
    {
     "data": {
      "text/plain": [
       "(442, 10)"
      ]
     },
     "execution_count": 21,
     "metadata": {},
     "output_type": "execute_result"
    }
   ],
   "source": [
    "diabetes.data.shape"
   ]
  },
  {
   "cell_type": "code",
   "execution_count": 44,
   "metadata": {},
   "outputs": [
    {
     "data": {
      "text/plain": [
       "(442,)"
      ]
     },
     "execution_count": 44,
     "metadata": {},
     "output_type": "execute_result"
    }
   ],
   "source": [
    "y = diabetes.target\n",
    "y.shape"
   ]
  },
  {
   "cell_type": "code",
   "execution_count": 37,
   "metadata": {},
   "outputs": [
    {
     "data": {
      "text/html": [
       "<div>\n",
       "<style scoped>\n",
       "    .dataframe tbody tr th:only-of-type {\n",
       "        vertical-align: middle;\n",
       "    }\n",
       "\n",
       "    .dataframe tbody tr th {\n",
       "        vertical-align: top;\n",
       "    }\n",
       "\n",
       "    .dataframe thead th {\n",
       "        text-align: right;\n",
       "    }\n",
       "</style>\n",
       "<table border=\"1\" class=\"dataframe\">\n",
       "  <thead>\n",
       "    <tr style=\"text-align: right;\">\n",
       "      <th></th>\n",
       "      <th>age</th>\n",
       "      <th>sex</th>\n",
       "      <th>bmi</th>\n",
       "      <th>bp</th>\n",
       "      <th>s1</th>\n",
       "      <th>s2</th>\n",
       "      <th>s3</th>\n",
       "      <th>s4</th>\n",
       "      <th>s5</th>\n",
       "      <th>s6</th>\n",
       "    </tr>\n",
       "  </thead>\n",
       "  <tbody>\n",
       "    <tr>\n",
       "      <th>0</th>\n",
       "      <td>0.038076</td>\n",
       "      <td>0.050680</td>\n",
       "      <td>0.061696</td>\n",
       "      <td>0.021872</td>\n",
       "      <td>-0.044223</td>\n",
       "      <td>-0.034821</td>\n",
       "      <td>-0.043401</td>\n",
       "      <td>-0.002592</td>\n",
       "      <td>0.019908</td>\n",
       "      <td>-0.017646</td>\n",
       "    </tr>\n",
       "    <tr>\n",
       "      <th>1</th>\n",
       "      <td>-0.001882</td>\n",
       "      <td>-0.044642</td>\n",
       "      <td>-0.051474</td>\n",
       "      <td>-0.026328</td>\n",
       "      <td>-0.008449</td>\n",
       "      <td>-0.019163</td>\n",
       "      <td>0.074412</td>\n",
       "      <td>-0.039493</td>\n",
       "      <td>-0.068330</td>\n",
       "      <td>-0.092204</td>\n",
       "    </tr>\n",
       "    <tr>\n",
       "      <th>2</th>\n",
       "      <td>0.085299</td>\n",
       "      <td>0.050680</td>\n",
       "      <td>0.044451</td>\n",
       "      <td>-0.005671</td>\n",
       "      <td>-0.045599</td>\n",
       "      <td>-0.034194</td>\n",
       "      <td>-0.032356</td>\n",
       "      <td>-0.002592</td>\n",
       "      <td>0.002864</td>\n",
       "      <td>-0.025930</td>\n",
       "    </tr>\n",
       "    <tr>\n",
       "      <th>3</th>\n",
       "      <td>-0.089063</td>\n",
       "      <td>-0.044642</td>\n",
       "      <td>-0.011595</td>\n",
       "      <td>-0.036656</td>\n",
       "      <td>0.012191</td>\n",
       "      <td>0.024991</td>\n",
       "      <td>-0.036038</td>\n",
       "      <td>0.034309</td>\n",
       "      <td>0.022692</td>\n",
       "      <td>-0.009362</td>\n",
       "    </tr>\n",
       "    <tr>\n",
       "      <th>4</th>\n",
       "      <td>0.005383</td>\n",
       "      <td>-0.044642</td>\n",
       "      <td>-0.036385</td>\n",
       "      <td>0.021872</td>\n",
       "      <td>0.003935</td>\n",
       "      <td>0.015596</td>\n",
       "      <td>0.008142</td>\n",
       "      <td>-0.002592</td>\n",
       "      <td>-0.031991</td>\n",
       "      <td>-0.046641</td>\n",
       "    </tr>\n",
       "  </tbody>\n",
       "</table>\n",
       "</div>"
      ],
      "text/plain": [
       "        age       sex       bmi        bp        s1        s2        s3  \\\n",
       "0  0.038076  0.050680  0.061696  0.021872 -0.044223 -0.034821 -0.043401   \n",
       "1 -0.001882 -0.044642 -0.051474 -0.026328 -0.008449 -0.019163  0.074412   \n",
       "2  0.085299  0.050680  0.044451 -0.005671 -0.045599 -0.034194 -0.032356   \n",
       "3 -0.089063 -0.044642 -0.011595 -0.036656  0.012191  0.024991 -0.036038   \n",
       "4  0.005383 -0.044642 -0.036385  0.021872  0.003935  0.015596  0.008142   \n",
       "\n",
       "         s4        s5        s6  \n",
       "0 -0.002592  0.019908 -0.017646  \n",
       "1 -0.039493 -0.068330 -0.092204  \n",
       "2 -0.002592  0.002864 -0.025930  \n",
       "3  0.034309  0.022692 -0.009362  \n",
       "4 -0.002592 -0.031991 -0.046641  "
      ]
     },
     "execution_count": 37,
     "metadata": {},
     "output_type": "execute_result"
    }
   ],
   "source": [
    "df  = pd.DataFrame(diabetes['data'])\n",
    "df.columns = diabetes['feature_names']\n",
    "df.head()"
   ]
  },
  {
   "cell_type": "code",
   "execution_count": 42,
   "metadata": {},
   "outputs": [
    {
     "data": {
      "text/html": [
       "<div>\n",
       "<style scoped>\n",
       "    .dataframe tbody tr th:only-of-type {\n",
       "        vertical-align: middle;\n",
       "    }\n",
       "\n",
       "    .dataframe tbody tr th {\n",
       "        vertical-align: top;\n",
       "    }\n",
       "\n",
       "    .dataframe thead th {\n",
       "        text-align: right;\n",
       "    }\n",
       "</style>\n",
       "<table border=\"1\" class=\"dataframe\">\n",
       "  <thead>\n",
       "    <tr style=\"text-align: right;\">\n",
       "      <th></th>\n",
       "      <th>age</th>\n",
       "      <th>sex</th>\n",
       "      <th>bmi</th>\n",
       "      <th>bp</th>\n",
       "      <th>s1</th>\n",
       "      <th>s2</th>\n",
       "      <th>s3</th>\n",
       "      <th>s4</th>\n",
       "      <th>s5</th>\n",
       "      <th>s6</th>\n",
       "    </tr>\n",
       "  </thead>\n",
       "  <tbody>\n",
       "    <tr>\n",
       "      <th>count</th>\n",
       "      <td>4.420000e+02</td>\n",
       "      <td>4.420000e+02</td>\n",
       "      <td>4.420000e+02</td>\n",
       "      <td>4.420000e+02</td>\n",
       "      <td>4.420000e+02</td>\n",
       "      <td>4.420000e+02</td>\n",
       "      <td>4.420000e+02</td>\n",
       "      <td>4.420000e+02</td>\n",
       "      <td>4.420000e+02</td>\n",
       "      <td>4.420000e+02</td>\n",
       "    </tr>\n",
       "    <tr>\n",
       "      <th>mean</th>\n",
       "      <td>7.409860e-18</td>\n",
       "      <td>-9.092777e-17</td>\n",
       "      <td>9.670495e-18</td>\n",
       "      <td>1.193113e-17</td>\n",
       "      <td>-1.331263e-17</td>\n",
       "      <td>-1.529068e-17</td>\n",
       "      <td>9.544904e-18</td>\n",
       "      <td>6.084876e-17</td>\n",
       "      <td>4.474174e-19</td>\n",
       "      <td>1.804583e-17</td>\n",
       "    </tr>\n",
       "    <tr>\n",
       "      <th>std</th>\n",
       "      <td>2.184838e-01</td>\n",
       "      <td>4.995612e-01</td>\n",
       "      <td>1.825670e-01</td>\n",
       "      <td>1.948057e-01</td>\n",
       "      <td>1.696473e-01</td>\n",
       "      <td>1.514596e-01</td>\n",
       "      <td>1.679767e-01</td>\n",
       "      <td>1.820099e-01</td>\n",
       "      <td>1.833643e-01</td>\n",
       "      <td>1.741869e-01</td>\n",
       "    </tr>\n",
       "    <tr>\n",
       "      <th>min</th>\n",
       "      <td>-4.919683e-01</td>\n",
       "      <td>-4.683258e-01</td>\n",
       "      <td>-3.461071e-01</td>\n",
       "      <td>-4.598177e-01</td>\n",
       "      <td>-4.516680e-01</td>\n",
       "      <td>-3.677248e-01</td>\n",
       "      <td>-3.608891e-01</td>\n",
       "      <td>-2.919956e-01</td>\n",
       "      <td>-4.855570e-01</td>\n",
       "      <td>-5.039421e-01</td>\n",
       "    </tr>\n",
       "    <tr>\n",
       "      <th>25%</th>\n",
       "      <td>-1.711350e-01</td>\n",
       "      <td>-4.683258e-01</td>\n",
       "      <td>-1.312311e-01</td>\n",
       "      <td>-1.499586e-01</td>\n",
       "      <td>-1.220111e-01</td>\n",
       "      <td>-9.655946e-02</td>\n",
       "      <td>-1.238761e-01</td>\n",
       "      <td>-1.509519e-01</td>\n",
       "      <td>-1.280295e-01</td>\n",
       "      <td>-1.213664e-01</td>\n",
       "    </tr>\n",
       "    <tr>\n",
       "      <th>50%</th>\n",
       "      <td>2.469834e-02</td>\n",
       "      <td>-4.683258e-01</td>\n",
       "      <td>-2.792528e-02</td>\n",
       "      <td>-2.319801e-02</td>\n",
       "      <td>-1.539349e-02</td>\n",
       "      <td>-1.214711e-02</td>\n",
       "      <td>-2.322677e-02</td>\n",
       "      <td>-9.908162e-03</td>\n",
       "      <td>-7.499659e-03</td>\n",
       "      <td>-3.942136e-03</td>\n",
       "    </tr>\n",
       "    <tr>\n",
       "      <th>75%</th>\n",
       "      <td>1.746983e-01</td>\n",
       "      <td>5.316742e-01</td>\n",
       "      <td>1.198020e-01</td>\n",
       "      <td>1.458161e-01</td>\n",
       "      <td>1.010281e-01</td>\n",
       "      <td>9.492460e-02</td>\n",
       "      <td>1.033966e-01</td>\n",
       "      <td>1.311356e-01</td>\n",
       "      <td>1.248890e-01</td>\n",
       "      <td>1.021185e-01</td>\n",
       "    </tr>\n",
       "    <tr>\n",
       "      <th>max</th>\n",
       "      <td>5.080317e-01</td>\n",
       "      <td>5.316742e-01</td>\n",
       "      <td>6.538929e-01</td>\n",
       "      <td>5.401823e-01</td>\n",
       "      <td>5.483320e-01</td>\n",
       "      <td>6.322752e-01</td>\n",
       "      <td>6.391109e-01</td>\n",
       "      <td>7.080044e-01</td>\n",
       "      <td>5.144430e-01</td>\n",
       "      <td>4.960579e-01</td>\n",
       "    </tr>\n",
       "  </tbody>\n",
       "</table>\n",
       "</div>"
      ],
      "text/plain": [
       "                age           sex           bmi            bp            s1  \\\n",
       "count  4.420000e+02  4.420000e+02  4.420000e+02  4.420000e+02  4.420000e+02   \n",
       "mean   7.409860e-18 -9.092777e-17  9.670495e-18  1.193113e-17 -1.331263e-17   \n",
       "std    2.184838e-01  4.995612e-01  1.825670e-01  1.948057e-01  1.696473e-01   \n",
       "min   -4.919683e-01 -4.683258e-01 -3.461071e-01 -4.598177e-01 -4.516680e-01   \n",
       "25%   -1.711350e-01 -4.683258e-01 -1.312311e-01 -1.499586e-01 -1.220111e-01   \n",
       "50%    2.469834e-02 -4.683258e-01 -2.792528e-02 -2.319801e-02 -1.539349e-02   \n",
       "75%    1.746983e-01  5.316742e-01  1.198020e-01  1.458161e-01  1.010281e-01   \n",
       "max    5.080317e-01  5.316742e-01  6.538929e-01  5.401823e-01  5.483320e-01   \n",
       "\n",
       "                 s2            s3            s4            s5            s6  \n",
       "count  4.420000e+02  4.420000e+02  4.420000e+02  4.420000e+02  4.420000e+02  \n",
       "mean  -1.529068e-17  9.544904e-18  6.084876e-17  4.474174e-19  1.804583e-17  \n",
       "std    1.514596e-01  1.679767e-01  1.820099e-01  1.833643e-01  1.741869e-01  \n",
       "min   -3.677248e-01 -3.608891e-01 -2.919956e-01 -4.855570e-01 -5.039421e-01  \n",
       "25%   -9.655946e-02 -1.238761e-01 -1.509519e-01 -1.280295e-01 -1.213664e-01  \n",
       "50%   -1.214711e-02 -2.322677e-02 -9.908162e-03 -7.499659e-03 -3.942136e-03  \n",
       "75%    9.492460e-02  1.033966e-01  1.311356e-01  1.248890e-01  1.021185e-01  \n",
       "max    6.322752e-01  6.391109e-01  7.080044e-01  5.144430e-01  4.960579e-01  "
      ]
     },
     "execution_count": 42,
     "metadata": {},
     "output_type": "execute_result"
    }
   ],
   "source": [
    "# Normalize input matrix b/w -1 and 1 for gradient descent\n",
    "X = (df - df.mean()) / (df.max() - df.min())\n",
    "X.describe()"
   ]
  },
  {
   "cell_type": "code",
   "execution_count": 51,
   "metadata": {},
   "outputs": [],
   "source": [
    "from sklearn.model_selection import train_test_split\n",
    "X_train, X_val, y_train, y_val = train_test_split(X, y, test_size=0.2, random_state=7)"
   ]
  },
  {
   "cell_type": "code",
   "execution_count": 52,
   "metadata": {},
   "outputs": [
    {
     "name": "stdout",
     "output_type": "stream",
     "text": [
      "shape of X_train:  (353, 10) \t shape of y_train:  (353,)\n",
      "shape of X_val:  (89, 10) \t shape of y_val:  (89,)\n"
     ]
    }
   ],
   "source": [
    "print('shape of X_train: ',X_train.shape,'\\t shape of y_train: ', y_train.shape)\n",
    "print('shape of X_val: ',X_val.shape,'\\t shape of y_val: ', y_val.shape)"
   ]
  },
  {
   "cell_type": "code",
   "execution_count": 54,
   "metadata": {},
   "outputs": [
    {
     "ename": "TypeError",
     "evalue": "cannot unpack non-iterable NoneType object",
     "output_type": "error",
     "traceback": [
      "\u001b[1;31m---------------------------------------------------------------------------\u001b[0m",
      "\u001b[1;31mTypeError\u001b[0m                                 Traceback (most recent call last)",
      "\u001b[1;32m<ipython-input-54-d2a13be02f2e>\u001b[0m in \u001b[0;36m<module>\u001b[1;34m\u001b[0m\n\u001b[1;32m----> 1\u001b[1;33m \u001b[0mLR_model\u001b[0m\u001b[1;33m(\u001b[0m\u001b[0mX_train\u001b[0m\u001b[1;33m,\u001b[0m \u001b[0my_train\u001b[0m\u001b[1;33m,\u001b[0m \u001b[0mX_val\u001b[0m\u001b[1;33m,\u001b[0m \u001b[0my_val\u001b[0m\u001b[1;33m,\u001b[0m \u001b[0mlrate\u001b[0m\u001b[1;33m=\u001b[0m\u001b[1;36m0.4\u001b[0m\u001b[1;33m,\u001b[0m \u001b[0mepochs\u001b[0m\u001b[1;33m=\u001b[0m\u001b[1;36m500\u001b[0m\u001b[1;33m)\u001b[0m\u001b[1;33m\u001b[0m\u001b[1;33m\u001b[0m\u001b[0m\n\u001b[0m",
      "\u001b[1;32m<ipython-input-19-73163c9350b4>\u001b[0m in \u001b[0;36mLR_model\u001b[1;34m(X_train, y_train, X_val, y_val, lrate, epochs)\u001b[0m\n\u001b[0;32m      9\u001b[0m     \"\"\"\n\u001b[0;32m     10\u001b[0m     \u001b[0mlen_w\u001b[0m \u001b[1;33m=\u001b[0m \u001b[0mX_train\u001b[0m\u001b[1;33m.\u001b[0m\u001b[0mshape\u001b[0m\u001b[1;33m[\u001b[0m\u001b[1;36m0\u001b[0m\u001b[1;33m]\u001b[0m\u001b[1;33m\u001b[0m\u001b[1;33m\u001b[0m\u001b[0m\n\u001b[1;32m---> 11\u001b[1;33m     \u001b[0mw\u001b[0m\u001b[1;33m,\u001b[0m \u001b[0mb\u001b[0m \u001b[1;33m=\u001b[0m \u001b[0minit_parameters\u001b[0m\u001b[1;33m(\u001b[0m\u001b[0mlen_w\u001b[0m\u001b[1;33m)\u001b[0m\u001b[1;33m\u001b[0m\u001b[1;33m\u001b[0m\u001b[0m\n\u001b[0m\u001b[0;32m     12\u001b[0m \u001b[1;33m\u001b[0m\u001b[0m\n\u001b[0;32m     13\u001b[0m     \u001b[0mcosts_train\u001b[0m \u001b[1;33m=\u001b[0m \u001b[1;33m[\u001b[0m\u001b[1;33m]\u001b[0m\u001b[1;33m\u001b[0m\u001b[1;33m\u001b[0m\u001b[0m\n",
      "\u001b[1;31mTypeError\u001b[0m: cannot unpack non-iterable NoneType object"
     ]
    }
   ],
   "source": [
    "LR_model(X_train, y_train, X_val, y_val, lrate=0.4, epochs=500)"
   ]
  },
  {
   "cell_type": "code",
   "execution_count": null,
   "metadata": {},
   "outputs": [],
   "source": []
  }
 ],
 "metadata": {
  "kernelspec": {
   "display_name": "Python 3",
   "language": "python",
   "name": "python3"
  },
  "language_info": {
   "codemirror_mode": {
    "name": "ipython",
    "version": 3
   },
   "file_extension": ".py",
   "mimetype": "text/x-python",
   "name": "python",
   "nbconvert_exporter": "python",
   "pygments_lexer": "ipython3",
   "version": "3.7.6"
  }
 },
 "nbformat": 4,
 "nbformat_minor": 4
}
